{
 "cells": [
  {
   "cell_type": "markdown",
   "id": "f15097c1",
   "metadata": {},
   "source": [
    "# ( Python 기초문제 연습 )"
   ]
  },
  {
   "cell_type": "markdown",
   "id": "8e587b0f",
   "metadata": {},
   "source": [
    "**1. 아래 코드를 실행했을 때, 각 줄이 몇 번 출력될까요?**"
   ]
  },
  {
   "cell_type": "code",
   "execution_count": 38,
   "id": "73b34f59",
   "metadata": {},
   "outputs": [
    {
     "name": "stdout",
     "output_type": "stream",
     "text": [
      "첫 번째 줄\n",
      "두 번째 줄\n",
      "세 번째 줄\n"
     ]
    }
   ],
   "source": [
    "print(\"첫 번째 줄\")\n",
    "print(\"두 번째 줄\")\n",
    "print(\"세 번째 줄\")\n",
    "\n",
    "# : 첫 번째 줄\n",
    "# : 두 번째 줄\n",
    "# : 세 번째 줄"
   ]
  },
  {
   "cell_type": "markdown",
   "id": "ac456bec",
   "metadata": {},
   "source": [
    "**2. 아래 코드를 실행했을 때, 각 줄이 몇 번 출력될까요?**"
   ]
  },
  {
   "cell_type": "code",
   "execution_count": 39,
   "id": "18ab8017",
   "metadata": {},
   "outputs": [
    {
     "name": "stdout",
     "output_type": "stream",
     "text": [
      "30\n",
      "계산 끝\n"
     ]
    }
   ],
   "source": [
    "x = 10\n",
    "y = 20\n",
    "z = x + y\n",
    "print(z)\n",
    "print(\"계산 끝\")\n",
    "\n",
    "# : 30\n",
    "# : 계산 끝"
   ]
  },
  {
   "cell_type": "markdown",
   "id": "ca89cdf4",
   "metadata": {},
   "source": [
    "**3. 아래 코드를 실행했을 때, 각 줄이 몇 번 출력될까요?**"
   ]
  },
  {
   "cell_type": "code",
   "execution_count": 40,
   "id": "377f23ce",
   "metadata": {},
   "outputs": [
    {
     "name": "stdout",
     "output_type": "stream",
     "text": [
      "Hello\n",
      "World\n"
     ]
    }
   ],
   "source": [
    "a = \"Hello\"\n",
    "b = \"World\"\n",
    "print(a)\n",
    "print(b)\n",
    "\n",
    "# : Hello\n",
    "# : World\n"
   ]
  },
  {
   "cell_type": "markdown",
   "id": "9eb03bb0",
   "metadata": {},
   "source": [
    "**4. 아래 코드를 실행했을 때, 각 문자열이 몇 번 출력될까요?**"
   ]
  },
  {
   "cell_type": "code",
   "execution_count": 41,
   "id": "a0b22b44",
   "metadata": {},
   "outputs": [
    {
     "name": "stdout",
     "output_type": "stream",
     "text": [
      "조건 1\n",
      "끝\n"
     ]
    }
   ],
   "source": [
    "x = 5\n",
    "if x > 3:\n",
    "    print(\"조건 1\")\n",
    "else:\n",
    "    print(\"조건 2\")\n",
    "print(\"끝\")\n",
    "\n",
    "# x는 3보다 크기 때문에 \"조건 2\" 가 충족 되고 \"끝\"은 \n",
    "# if문에 안에 들여쓰여 있지 않기 때문에 한 번만 출력 \n",
    "\n",
    "# : 조건 1\n",
    "# : 끝"
   ]
  },
  {
   "cell_type": "markdown",
   "id": "8d834b75",
   "metadata": {},
   "source": [
    "**5. 아래 코드를 실행했을 때, 각 문자열이 몇 번 출력될까요?**"
   ]
  },
  {
   "cell_type": "code",
   "execution_count": 42,
   "id": "40e1659b",
   "metadata": {},
   "outputs": [
    {
     "name": "stdout",
     "output_type": "stream",
     "text": [
      "성인\n",
      "확인 완료\n"
     ]
    }
   ],
   "source": [
    "age = 20\n",
    "if age < 18:\n",
    "    print(\"미성년자\")\n",
    "else:\n",
    "    print(\"성인\")\n",
    "print(\"확인 완료\")\n",
    "\n",
    "# age는 18보다 크기 때문에 if문 조건에 충족 되지 않기 때문에 \n",
    "# else문에 충족 되어 \"성인\"이 출력 되고 \"확인 완료\"는 \n",
    "# 들여쓰기가 되어있지 않기 때문에 한 번 출력\n",
    "\n",
    "# : 성인\n",
    "# : 환인 완료"
   ]
  },
  {
   "cell_type": "markdown",
   "id": "9e9df283",
   "metadata": {},
   "source": [
    "**6. 아래 코드를 실행했을 때, 각 문자열이 몇 번 출력될까요?**"
   ]
  },
  {
   "cell_type": "code",
   "execution_count": 43,
   "id": "93e4ac64",
   "metadata": {},
   "outputs": [
    {
     "name": "stdout",
     "output_type": "stream",
     "text": [
      "관리자입니다.\n",
      "접근을 허용합니다.\n",
      "로그인 페이지\n"
     ]
    }
   ],
   "source": [
    "is_admin = True\n",
    "if is_admin:\n",
    "    print(\"관리자입니다.\")\n",
    "    print(\"접근을 허용합니다.\")\n",
    "else:\n",
    "    print(\"일반 사용자입니다.\")\n",
    "print(\"로그인 페이지\")\n",
    "\n",
    "# is_admin이 맞다는 표현으로 True라는 표현을 했기 때문에 \n",
    "# if문에서 충족 되었기 때문에 \"관리자입니다.\", \"접근을 허용합니다\" 가 출력 되고\n",
    "# \"로그인 페이지\"는 조건문 안에 들여쓰기를 하지 않았기 때문에 한 번만 출력\n",
    "\n",
    "# : 관리자입니다.\n",
    "# : 접근을 허용합니다.\n",
    "# : 로그인 페이지"
   ]
  },
  {
   "cell_type": "markdown",
   "id": "b9a3f425",
   "metadata": {},
   "source": [
    "**7. 아래 코드를 실행했을 때, 각 문자열이 몇 번 출력될까요?**"
   ]
  },
  {
   "cell_type": "code",
   "execution_count": 44,
   "id": "17c51b68",
   "metadata": {},
   "outputs": [
    {
     "name": "stdout",
     "output_type": "stream",
     "text": [
      "B\n"
     ]
    }
   ],
   "source": [
    "score = 85\n",
    "if score >= 90:\n",
    "    print(\"A\")\n",
    "elif score >= 80:\n",
    "    print(\"B\")\n",
    "elif score >= 70:\n",
    "    print(\"C\")\n",
    "else:\n",
    "    print(\"F\")\n",
    "\n",
    "# score는 85점이라서 90보다 크거나 같지 않기 때문에\n",
    "# \"A\" 출력이 안되고 \"B\"가 출력 된다 80점보다는 크기 때문에 출력 되고 \n",
    "# else 부분 \"C\",\"F\"는 위에 elif문에서 조건이 충족 되었기 때문에 출력 되지 않는다.\n",
    "\n",
    "# : B"
   ]
  },
  {
   "cell_type": "markdown",
   "id": "fb762e86",
   "metadata": {},
   "source": [
    "**8. 아래 코드를 실행했을 때, 각 문자열이 몇 번 출력될까요?**"
   ]
  },
  {
   "cell_type": "code",
   "execution_count": 45,
   "id": "b19bfd69",
   "metadata": {},
   "outputs": [
    {
     "name": "stdout",
     "output_type": "stream",
     "text": [
      "두 조건 모두 참\n"
     ]
    }
   ],
   "source": [
    "x = 10\n",
    "y = 5\n",
    "if x > 5 and y < 10:\n",
    "    print(\"두 조건 모두 참\")\n",
    "else:\n",
    "    print(\"조건 중 하나 이상 거짓\")\n",
    "\n",
    "# if문에서 and 라는 코드는 두 가지 모두 충족하여야 한다는 표현이기 때문에 \n",
    "# x는 5보다 크고 y는 10보다 작기 때문에 충족하기 때문에 \"두 조건 모두 참\" 출력\n",
    "\n",
    "# : 두 조건 모두 참"
   ]
  },
  {
   "cell_type": "markdown",
   "id": "66c56f07",
   "metadata": {},
   "source": [
    "**9. 아래 코드를 실행했을 때, 각 문자열이 몇 번 출력될까요?**"
   ]
  },
  {
   "cell_type": "code",
   "execution_count": 46,
   "id": "425dc2d5",
   "metadata": {},
   "outputs": [
    {
     "name": "stdout",
     "output_type": "stream",
     "text": [
      "우산이 필요 없습니다.\n",
      "외출 준비\n"
     ]
    }
   ],
   "source": [
    "is_raining = False\n",
    "if not is_raining:\n",
    "    print(\"우산이 필요 없습니다.\")\n",
    "print(\"외출 준비\")\n",
    "\n",
    "# is_raining은 거짓이라는 표현을 했기 때문에 if문에서 not이라는 부정이 나와서 \n",
    "# 조건 충족해서 \"우산이 필요 없습니다.\", \"외출 준비\"는 들여쓰기 \n",
    "# 되어 있지 않기 때문에 한 번만 출력\n",
    "\n",
    "# : 우산이 필요 없습니다.\n",
    "# : 외출 준비"
   ]
  },
  {
   "cell_type": "markdown",
   "id": "eb4d4303",
   "metadata": {},
   "source": [
    "**10. 아래 코드를 실행했을 때, 각 문자열이 몇 번 출력될까요?**"
   ]
  },
  {
   "cell_type": "code",
   "execution_count": 47,
   "id": "87286537",
   "metadata": {},
   "outputs": [
    {
     "name": "stdout",
     "output_type": "stream",
     "text": [
      "반복 중\n",
      "반복 중\n",
      "반복 중\n",
      "반복 중\n",
      "반복 중\n",
      "반복 끝\n"
     ]
    }
   ],
   "source": [
    "for i in range(5):\n",
    "    print(\"반복 중\")\n",
    "print(\"반복 끝\")\n",
    "\n",
    "# range(5)는 0 ~ 4 까지 출력 되기 때문에 \"반복 중\" 5번 출력 \n",
    "# \"반복 끝\"은 for문에 들여쓰기 되어 있지 않기 때문에 한 번만 출력\n",
    "\n",
    "# : 반복 중\n",
    "# : 반복 중\n",
    "# : 반복 중\n",
    "# : 반복 중\n",
    "# : 반복 중\n",
    "# : 반복 끝"
   ]
  },
  {
   "cell_type": "markdown",
   "id": "6b07f710",
   "metadata": {},
   "source": [
    "**11. 아래 코드를 실행했을 때, 각 문자열이 몇 번 출력될까요?**"
   ]
  },
  {
   "cell_type": "code",
   "execution_count": 48,
   "id": "1b55db42",
   "metadata": {},
   "outputs": [
    {
     "name": "stdout",
     "output_type": "stream",
     "text": [
      "총합: 3\n"
     ]
    }
   ],
   "source": [
    "total = 0\n",
    "for i in range(3):\n",
    "    total = total + i\n",
    "print(\"총합:\", total)\n",
    "\n",
    "# total + 0 , total + 1, total +2 = 3\n",
    "\n",
    "# : 총합: 3"
   ]
  },
  {
   "cell_type": "markdown",
   "id": "4cdb5a4c",
   "metadata": {},
   "source": [
    "**12. 아래 코드를 실행했을 때, 각 문자열이 몇 번 출력될까요?**"
   ]
  },
  {
   "cell_type": "code",
   "execution_count": 49,
   "id": "097b5ef4",
   "metadata": {},
   "outputs": [
    {
     "name": "stdout",
     "output_type": "stream",
     "text": [
      "무한 루프\n",
      "루프 종료\n"
     ]
    }
   ],
   "source": [
    "while True:\n",
    "    print(\"무한 루프\")\n",
    "    break\n",
    "print(\"루프 종료\")\n",
    "\n",
    "# while이 True라면 조건을 충족하여 계속 실행하라는 표현이기 때문에 \n",
    "# break를 넣어주어서 \"무한 루프\"가 한 번 출력 되고 \n",
    "# \"루프 종료\"는 들여쓰기 되어 있지 않기 때문에 한 번만 출력\n",
    "\n",
    "# : 무한 루프\n",
    "# : 루프 종료"
   ]
  },
  {
   "cell_type": "markdown",
   "id": "f533a6e0",
   "metadata": {},
   "source": [
    "**13. 아래 코드를 실행했을 때, 각 문자열이 몇 번 출력될까요?**"
   ]
  },
  {
   "cell_type": "code",
   "execution_count": 50,
   "id": "c727d173",
   "metadata": {},
   "outputs": [
    {
     "name": "stdout",
     "output_type": "stream",
     "text": [
      "0\n",
      "1\n",
      "2\n",
      "3\n",
      "카운트 종료\n"
     ]
    }
   ],
   "source": [
    "count = 0\n",
    "while count < 4:\n",
    "    print(count)\n",
    "    count = count + 1\n",
    "print(\"카운트 종료\")\n",
    "\n",
    "# 0\n",
    "# 0 + 1 = 1\n",
    "# 1 + 1 = 2\n",
    "# 2 + 1 = 3\n",
    "# 3 + 1 = 4  \n",
    "# >= 4는 출력 되지 않는다 4와 같은 값 이기 때문에 반복이 중단 됌. \n",
    "# \"카운트 종료\"는 들여쓰기 되어 있지 않기 때문에 한 번만 반복\n",
    "\n",
    "# : 0\n",
    "# : 1\n",
    "# : 2\n",
    "# : 3\n",
    "# : 카운트 종료"
   ]
  },
  {
   "cell_type": "markdown",
   "id": "90ecca02",
   "metadata": {},
   "source": [
    "**14. 아래 코드를 실행했을 때, 각 문자열이 몇 번 출력될까요?**"
   ]
  },
  {
   "cell_type": "code",
   "execution_count": 51,
   "id": "d039d808",
   "metadata": {},
   "outputs": [
    {
     "name": "stdout",
     "output_type": "stream",
     "text": [
      "2\n",
      "4\n",
      "6\n",
      "계산 완료\n"
     ]
    }
   ],
   "source": [
    "for i in range(1, 4):\n",
    "    print(i * 2)\n",
    "print(\"계산 완료\")\n",
    "\n",
    "# 1 * 2 = 2\n",
    "# 2 * 2 = 4\n",
    "# 3 * 2 = 6 \n",
    "# >= 3까지 반복이 끝나고 \"계산 완료\"가 출력 \n",
    "# 들여쓰기를 하지 않았기 때문에 한 번만 반복\n",
    "\n",
    "# : 2\n",
    "# : 4\n",
    "# : 6\n",
    "# : 계산 완료\n"
   ]
  },
  {
   "cell_type": "markdown",
   "id": "dc19471d",
   "metadata": {},
   "source": [
    "**15. 아래 코드를 실행했을 때, 각 문자열이 몇 번 출력될까요?**"
   ]
  },
  {
   "cell_type": "code",
   "execution_count": 52,
   "id": "3bc7f907",
   "metadata": {},
   "outputs": [
    {
     "name": "stdout",
     "output_type": "stream",
     "text": [
      "P\n",
      "y\n",
      "t\n",
      "h\n",
      "o\n",
      "n\n",
      "문자열 반복 끝\n"
     ]
    }
   ],
   "source": [
    "for char in \"Python\":\n",
    "    print(char)\n",
    "print(\"문자열 반복 끝\")\n",
    "\n",
    "# \"python\"은 문자열이기 때문에 인덱스싱 처럼 출력 되기 때문에 단어가 하나씩 출력 됌\n",
    "# \"문자열 반복 끝\"은 들여쓰기 되어 있지 않아서 한 번만 출력\n",
    "\n",
    "# : P\n",
    "# : y\n",
    "# : t\n",
    "# : h\n",
    "# : o\n",
    "# : n\n",
    "# : 문자열 반복 끝"
   ]
  },
  {
   "cell_type": "markdown",
   "id": "c65d9b0a",
   "metadata": {},
   "source": [
    "**16. 아래 코드를 실행했을 때, 각 문자열이 몇 번 출력될까요?**"
   ]
  },
  {
   "cell_type": "code",
   "execution_count": 53,
   "id": "36272f91",
   "metadata": {},
   "outputs": [
    {
     "name": "stdout",
     "output_type": "stream",
     "text": [
      "바깥 반복문\n",
      "안쪽 반복문\n",
      "안쪽 반복문\n",
      "안쪽 반복문\n",
      "바깥 반복문\n",
      "안쪽 반복문\n",
      "안쪽 반복문\n",
      "안쪽 반복문\n",
      "모두 끝\n"
     ]
    }
   ],
   "source": [
    "for i in range(2):\n",
    "    print(\"바깥 반복문\")\n",
    "    for j in range(3):\n",
    "        print(\"안쪽 반복문\")\n",
    "print(\"모두 끝\")\n",
    "\n",
    "# i = 2번 반복\n",
    "# j = 3번 반복\n",
    "# i가 첫 번째반복 되면 j는 3번 반복, i가 두 번째 반복하면 j는 3번 반복 끝.\n",
    "# \"모두 끝\"은 들여쓰기 되어 있지 않기 때문에 한 번만 반복\n",
    "\n",
    "# : 바깥 반복문\n",
    "# : 안쪽 반복문\n",
    "# : 안쪽 반복문\n",
    "# : 안쪽 반복문\n",
    "# : 바깥 반복문\n",
    "# : 안쪽 반복문\n",
    "# : 안쪽 반복문\n",
    "# : 안쪽 반복문\n",
    "# : 모두 끝\n"
   ]
  },
  {
   "cell_type": "markdown",
   "id": "9d07898d",
   "metadata": {},
   "source": [
    "**17. 아래 코드를 실행했을 때, 각 문자열이 몇 번 출력될까요?**"
   ]
  },
  {
   "cell_type": "code",
   "execution_count": 54,
   "id": "88110971",
   "metadata": {},
   "outputs": [
    {
     "name": "stdout",
     "output_type": "stream",
     "text": [
      "i:0, j:0\n",
      "i:0, j:1\n",
      "i:1, j:0\n",
      "i:1, j:1\n",
      "완료\n"
     ]
    }
   ],
   "source": [
    "for i in range(2):\n",
    "    for j in range(2):\n",
    "        print(f\"i:{i}, j:{j}\")\n",
    "print(\"완료\")\n",
    "\n",
    "# 1. i(0) > j(0,1) 2. i(1) > j(0,1) 반복\n",
    "# \"완료\"는 들여쓰기 하지 않아서 한 번만 출력\n",
    "\n",
    "# : i:0, j:0\n",
    "# : i:0, j:1\n",
    "# : i:1, j:0\n",
    "# : i:1, j:1\n",
    "# 완료\n"
   ]
  },
  {
   "cell_type": "markdown",
   "id": "63d443a1",
   "metadata": {},
   "source": [
    "**18. 아래 코드를 실행했을 때, 각 문자열이 몇 번 출력될까요?**"
   ]
  },
  {
   "cell_type": "code",
   "execution_count": 55,
   "id": "3a24e895",
   "metadata": {},
   "outputs": [
    {
     "name": "stdout",
     "output_type": "stream",
     "text": [
      "Inner\n",
      "Outer\n",
      "Inner\n",
      "Outer\n",
      "Inner\n",
      "Outer\n"
     ]
    }
   ],
   "source": [
    "for i in range(3): # 0,1,2\n",
    "    for j in range(1): # 0\n",
    "        print(\"Inner\")\n",
    "    print(\"Outer\")\n",
    "\n",
    "# i는 3번 반복하고 j는 1번 반복하게 되는데 \"Inner\"과 \"Outer\"은 i for문에 \n",
    "# 들여쓰여 있기 때문에 차례대로 3번 반복 된다.\n",
    "# 만약에 j의 range(3)이라고 하면 IIIOIIIOIIIO 이런식으로 반복 된다.\n",
    "\n",
    "# : Inner\n",
    "# : Outer\n",
    "# : Inner\n",
    "# : Outer\n",
    "# : Inner\n",
    "# : Outer"
   ]
  },
  {
   "cell_type": "markdown",
   "id": "17c4b391",
   "metadata": {},
   "source": [
    "**19. 아래 코드를 실행했을 때, 각 문자열이 몇 번 출력될까요?**"
   ]
  },
  {
   "cell_type": "code",
   "execution_count": null,
   "id": "7826a902",
   "metadata": {},
   "outputs": [
    {
     "name": "stdout",
     "output_type": "stream",
     "text": [
      "함수 호출 전\n",
      "함수 내부\n",
      "함수 호출 후\n"
     ]
    }
   ],
   "source": [
    "def my_function():\n",
    "    print(\"함수 내부\")\n",
    "\n",
    "print(\"함수 호출 전\")\n",
    "my_function()\n",
    "print(\"함수 호출 후\")\n",
    "\n",
    "# my_function()안에 \" 함수 호출 전\"은 들여쓰기 되어 있지 않기 \n",
    "# 때문에 함수로 저장 되어 있지 않아서 먼저 출력 되고 들여쓰기 되어 있는 \n",
    "# \"함수 내부\"가 출력 되고 마지막으로 \"함수 호출 후\"가 출력 된다.\n",
    "\n",
    "# : 함수 호출 전\n",
    "# : 함수 내부\n",
    "# : 함수 호출 후\n"
   ]
  },
  {
   "cell_type": "markdown",
   "id": "808b6be0",
   "metadata": {},
   "source": [
    "**20. 아래 코드를 실행했을 때, 각 문자열이 몇 번 출력될까요?**"
   ]
  },
  {
   "cell_type": "code",
   "execution_count": 57,
   "id": "af1d84dc",
   "metadata": {},
   "outputs": [
    {
     "name": "stdout",
     "output_type": "stream",
     "text": [
      "시작\n",
      "30\n",
      "종료\n"
     ]
    }
   ],
   "source": [
    "def add(a, b):\n",
    "    print(a + b)\n",
    "\n",
    "print(\"시작\")\n",
    "add(10, 20)\n",
    "print(\"종료\")\n",
    "\n",
    "# \"시작\"은 함수에 들여쓰기가 되어있지 않기 때문에 먼저 출력이 되고 그다음에 \n",
    "# 함수에 안에 들여쓰기 되어 있는 a + b가 출력 된다. a == 10  +  b == 20  = 30\n",
    "\n",
    "# : 시작\n",
    "# : 30\n",
    "# : 종료"
   ]
  },
  {
   "cell_type": "markdown",
   "id": "95689fff",
   "metadata": {},
   "source": [
    "**21. 아래 코드를 실행했을 때, 각 문자열이 몇 번 출력될까요?**"
   ]
  },
  {
   "cell_type": "code",
   "execution_count": null,
   "id": "47d0dd64",
   "metadata": {},
   "outputs": [
    {
     "name": "stdout",
     "output_type": "stream",
     "text": [
      "Hello\n",
      "Hello\n",
      "Bye\n",
      "Hello\n",
      "Hello\n"
     ]
    }
   ],
   "source": [
    "def repeat_hello():\n",
    "    for i in range(2):\n",
    "        print(\"Hello\")\n",
    "\n",
    "repeat_hello()\n",
    "print(\"Bye\")\n",
    "repeat_hello()\n",
    "\n",
    "# repeat_hello() 안에 반복문을 저장하여 \"Hello\"가 \n",
    "# 두 번 반복하게 만드는 함수를 만들었다.\n",
    "\n",
    "# : Hello\n",
    "# : Hello\n",
    "# : Bye\n",
    "# : Hello\n",
    "# : Hello"
   ]
  },
  {
   "cell_type": "markdown",
   "id": "513431c3",
   "metadata": {},
   "source": [
    "**22. 아래 코드를 실행했을 때, 각 문자열이 몇 번 출력될까요?**"
   ]
  },
  {
   "cell_type": "code",
   "execution_count": null,
   "id": "c4ccc138",
   "metadata": {},
   "outputs": [
    {
     "name": "stdout",
     "output_type": "stream",
     "text": [
      "짝수: 0\n",
      "홀수: 1\n",
      "짝수: 2\n",
      "홀수: 3\n",
      "짝수: 4\n"
     ]
    }
   ],
   "source": [
    "for i in range(5): # 0,1,2,3,4 반복 \n",
    "    if i % 2 == 0: \n",
    "        print(\"짝수:\", i)\n",
    "    else:\n",
    "        print(\"홀수:\", i)\n",
    "\n",
    "# 2로 i를 나눴을 때 나머지가 0이면 짝수 그렇지 않으면 홀수를 출력 하고 \n",
    "# 그 옆에 출력 되는 숫자를 표시하라는 반복문이다.\n",
    "\n",
    "# : 짝수: 0\n",
    "# : 홀수: 1\n",
    "# : 짝수: 2\n",
    "# : 홀수: 3\n",
    "# : 짝수: 4"
   ]
  },
  {
   "cell_type": "markdown",
   "id": "ff6ce6a0",
   "metadata": {},
   "source": [
    "**23. 아래 코드를 실행했을 때, 각 문자열이 몇 번 출력될까요?**"
   ]
  },
  {
   "cell_type": "code",
   "execution_count": 60,
   "id": "da3cb87a",
   "metadata": {},
   "outputs": [
    {
     "name": "stdout",
     "output_type": "stream",
     "text": [
      "조건 1\n",
      "조건 2\n"
     ]
    }
   ],
   "source": [
    "x = 10\n",
    "y = 5\n",
    "if x > 5:\n",
    "    print(\"조건 1\")\n",
    "    if y < 10:\n",
    "        print(\"조건 2\")\n",
    "else:\n",
    "    print(\"조건 3\")\n",
    "\n",
    "# x는 5보다 크다는 조건을 달성하여 들여쓰기 되어 있는 \"조건 1\"이 출력 되고\n",
    "# 또 들여쓰여 있는 y 조건문도 10보다 작기 때문에 조건 달성 해서 \"조건 2\"가 출력 된다\n",
    "# else \"조건 3\"은 위에 조건들을 모두 충족하지 않으면 출력하라는 뜻 이기 때문에 출력 되지 않는다.\n",
    "\n",
    "# : 조건 1\n",
    "# : 조건 2"
   ]
  },
  {
   "cell_type": "markdown",
   "id": "e18f566e",
   "metadata": {},
   "source": [
    "**24. 아래 코드를 실행했을 때, 각 문자열이 몇 번 출력될까요?**"
   ]
  },
  {
   "cell_type": "code",
   "execution_count": 61,
   "id": "6204df59",
   "metadata": {},
   "outputs": [
    {
     "name": "stdout",
     "output_type": "stream",
     "text": [
      "미성년자입니다.\n",
      "성인입니다.\n"
     ]
    }
   ],
   "source": [
    "def check_age(age):\n",
    "    if age >= 20:\n",
    "        print(\"성인입니다.\")\n",
    "    else:\n",
    "        print(\"미성년자입니다.\")\n",
    "\n",
    "check_age(15)\n",
    "check_age(25)\n",
    "\n",
    "# check_age라는 함수안에 age가 20보다 크거나 같으면 \"성인입니다.\"를 출력하라는 조건을 달았고\n",
    "# 조건이 달성 되지 않으면 \"미성년자입니다.\"라는 것을 출력하라는 표현이다\n",
    "# check_age(15)는 20보다 크거나 같다는 조건을 충족하지 못 하였기 때문에  \"미성년자입니다.\" 출력 된다.\n",
    "# check_age(25)는 20보다 크거나 같다는 조건을 충족하여 \"성인입니다.\" 출력 된다.\n",
    "\n",
    "# : 미성년자입니다.\n",
    "# : 성인입니다."
   ]
  },
  {
   "cell_type": "markdown",
   "id": "6f4fa58f",
   "metadata": {},
   "source": [
    "**25. 아래 코드를 실행했을 때, 각 문자열이 몇 번 출력될까요?**"
   ]
  },
  {
   "cell_type": "code",
   "execution_count": 62,
   "id": "3cd9d545",
   "metadata": {},
   "outputs": [
    {
     "name": "stdout",
     "output_type": "stream",
     "text": [
      "카운트 시작\n",
      "0\n",
      "1\n",
      "2\n",
      "카운트 종료\n"
     ]
    }
   ],
   "source": [
    "def print_numbers(n):\n",
    "    for i in range(n):\n",
    "        print(i)\n",
    "\n",
    "print(\"카운트 시작\")\n",
    "print_numbers(3)\n",
    "print(\"카운트 종료\")\n",
    "\n",
    "# print_numbers(n)이라는 함수 안에 (n)개수를 지정한 수 만큼 i를 반복하여 출력하라는 반복 한다는\n",
    "# 반복문이고 \"카운트 시작\"은 반복문 안에 들여쓰기 되어 있지 않기 때문에 반복문이 i가 출력 되기 전에\n",
    "# 먼저 출력 된고 i가 출력 된다 (3)이라는 숫자가 들어가서 0,1,2 숫자가 반복 되어 출력 되고\n",
    "# 마지막에 \"카운트 종료\"가 출력 된다.\n",
    "\n",
    "# : 카운트 시작\n",
    "# : 0\n",
    "# : 1\n",
    "# : 2\n",
    "# : 카운드 종료"
   ]
  },
  {
   "cell_type": "markdown",
   "id": "6383a2ae",
   "metadata": {},
   "source": [
    "**26. 아래 코드를 실행했을 때, 각 문자열이 몇 번 출력될까요?**"
   ]
  },
  {
   "cell_type": "code",
   "execution_count": 63,
   "id": "185d1b8e",
   "metadata": {},
   "outputs": [
    {
     "name": "stdout",
     "output_type": "stream",
     "text": [
      "짝수\n",
      "홀수\n",
      "짝수\n",
      "홀수\n"
     ]
    }
   ],
   "source": [
    "def check_even_odd(n):\n",
    "    for i in range(n):\n",
    "        if i % 2 == 0:\n",
    "            print(\"짝수\")\n",
    "        else:\n",
    "            print(\"홀수\")\n",
    "\n",
    "check_even_odd(4)\n",
    "\n",
    "# check_even_odd(n)라는 함수 안에 반복문과 조건문을 넣은 형태이고 i의 나머지가 0이면 \"짝수\"를 출력하고\n",
    "# 그렇지 않으면 \"홀수\" 출력 하라는 함수다 지금 함수안에 숫자가 4가 들어갔기 때문에 0,1,2,3 이 출력 되는데\n",
    "# # 0 == 짝수, 1 == 홀수, 2 == 짝수, 3 == 홀수 이런식으로 반복 된다.\n",
    "\n",
    "# : 짝수\n",
    "# : 홀수\n",
    "# : 짝수\n",
    "# : 홀수"
   ]
  },
  {
   "cell_type": "markdown",
   "id": "b46aee2b",
   "metadata": {},
   "source": [
    "**27. 아래 코드를 실행했을 때, 각 문자열이 몇 번 출력될까요?**"
   ]
  },
  {
   "cell_type": "code",
   "execution_count": 64,
   "id": "fe652137",
   "metadata": {},
   "outputs": [
    {
     "name": "stdout",
     "output_type": "stream",
     "text": [
      "Looping...\n",
      "Looping...\n",
      "Stop!\n"
     ]
    }
   ],
   "source": [
    "def run_loop(count):\n",
    "    for i in range(count):\n",
    "        print(\"Looping...\")\n",
    "        if i == 1:\n",
    "            print(\"Stop!\")\n",
    "            break\n",
    "run_loop(5) # 0,1,2,3,4\n",
    "\n",
    "# run_loop(count)라는 함수 안에 반복문과 조건문이 들어있다. (5)는 0,1,2,3,4가 출력 되는데\n",
    "# 여기서 조건은 0,1,2,3,4 라는 숫자가 출력되는 과정에서 1과 같으면 \"Stop\"이 출력 되고 break를\n",
    "# 사용해서 반복을 멈추라는 함수이다\n",
    "# 0 == Looping..., 1 == Looping..., Stop! 이런식으로 1이 출력되면 반복이 멈춘다\n",
    "# 만약 break가 없다면 Looping... 3번 더 반복하여 나오고 Stop은 출력 되지 않는다 왜냐하면\n",
    "# 1과 같다면 출력하라는 조건을 충족하지 않았기 때문이다.\n",
    "\n",
    "# : Looping...\n",
    "# : Looping...\n",
    "# : Stop!\n"
   ]
  },
  {
   "cell_type": "markdown",
   "id": "31d9aef5",
   "metadata": {},
   "source": [
    "**28. 아래 코드를 실행했을 때, 각 문자열이 몇 번 출력될까요?**"
   ]
  },
  {
   "cell_type": "code",
   "execution_count": 65,
   "id": "43a322cb",
   "metadata": {},
   "outputs": [
    {
     "name": "stdout",
     "output_type": "stream",
     "text": [
      "i와 j는 같아요: 0\n",
      "i와 j는 같아요: 1\n"
     ]
    }
   ],
   "source": [
    "for i in range(2): # 0,1 출력\n",
    "    for j in range(2): # 0,1 출력\n",
    "        if i == j:\n",
    "            print(f\"i와 j는 같아요: {i}\")\n",
    "\n",
    "# i와 j가 같을 때만 \"i와 j는 같아요: {i}\" 출력이 되기 때문에 \n",
    "# i = 0 출력 되고 고정 된 상태에서 j = 0 출력 되면 참이라서 출력 되고 j = 1 같지 않기 때문에\n",
    "# 출력 되지 않고 다시 i로 다시 돌아간다 i = 1 고정 j = 0 같지 않아서 출력 되지 않고\n",
    "# j = 1 때는 참이라서 출력 된다.\n",
    "\n",
    "# : i와 j는 같아요: 0\n",
    "# : i와 j는 같아요: 1\n"
   ]
  },
  {
   "cell_type": "markdown",
   "id": "0c851033",
   "metadata": {},
   "source": [
    "**29. 아래 코드를 실행했을 때, 각 문자열이 몇 번 출력될까요?**"
   ]
  },
  {
   "cell_type": "code",
   "execution_count": 66,
   "id": "86660857",
   "metadata": {},
   "outputs": [
    {
     "name": "stdout",
     "output_type": "stream",
     "text": [
      "B\n",
      "C\n"
     ]
    }
   ],
   "source": [
    "def calculate_grade(score):\n",
    "    if score >= 90:\n",
    "        print(\"A\")\n",
    "    if score >= 80:\n",
    "        print(\"B\")\n",
    "    if score >= 70:\n",
    "        print(\"C\")\n",
    "    else:\n",
    "        print(\"F\")\n",
    "calculate_grade(85)\n",
    "\n",
    "# calculata_grade(score) 함수 안에 85 숫자가 들어가서 90보다는 크거나 같지 않아서 넘어가고\n",
    "# 80 보다 커서 조건충족 출력, 70보다 커서 조건충족 출력, \"F\"는 위에 if 조건들을 모두 만족하지 \n",
    "# 않았을 때 출력 되는거 라서 출력 되지 않는다.\n",
    "\n",
    "# : B \n",
    "# : C \n"
   ]
  },
  {
   "cell_type": "markdown",
   "id": "ba175c2a",
   "metadata": {},
   "source": [
    "**30. 아래 코드를 실행했을 때, 각 문자열이 몇 번 출력될까요?**"
   ]
  },
  {
   "cell_type": "code",
   "execution_count": 67,
   "id": "5ae1ebb0",
   "metadata": {},
   "outputs": [
    {
     "name": "stdout",
     "output_type": "stream",
     "text": [
      "프로그램 시작\n",
      "메인 함수 시작\n",
      "i는 0\n",
      "i는 1\n",
      "메인 함수 종료\n",
      "프로그램 종료\n"
     ]
    }
   ],
   "source": [
    "def main_func():\n",
    "    print(\"메인 함수 시작\")\n",
    "    for i in range(2): # 0,1\n",
    "        if i == 0:\n",
    "            print(\"i는 0\")\n",
    "        else:\n",
    "            print(\"i는 1\")\n",
    "    print(\"메인 함수 종료\")\n",
    "\n",
    "print(\"프로그램 시작\")\n",
    "main_func()\n",
    "print(\"프로그램 종료\")\n",
    "\n",
    "# \"프로그램 시작\" 함수 안에 들여쓰여 있지 않기 때문에 먼저 출력 되고 main_func() 함수가 시작 되면\n",
    "# 함수안에 들여쓰여 있고 반복문, 조건문 보다 상위에 있기 때문에 먼저 출력 되고 다시 반복문으로 가서\n",
    "# i는 0,1 순서대로 출력 된다 0이 먼저 출력 돼서 조건문에 i는 0과 같다는 조건 충족으로 \"i는 0\"출력 후\n",
    "# 다시 1이 출력 되어 i는 0과 같지 않기 때문에 else쪽으로 가서 \"i는 1\" 출력 되고 \"메인 함수 종료\"는\n",
    "# for문에 들여쓰여 있지 않기 때문에 if 조건을 충족할때마다 출력 되지 않는다 하지만 함수 안쪽으로\n",
    "# 들여쓰여 있기 때문에 반복문이 끝나면 한 번 출력 된다. main_func의 출력이 끝나면\n",
    "# 마지막 \"프로그램 종료\" 출력 된다.\n",
    "\n",
    "# : 프로그램 시작\n",
    "# : 메인 함수 시작\n",
    "# : i는 0\n",
    "# : i는 1\n",
    "# : 메인 함수 종료\n",
    "# : 프로그램 종료\n"
   ]
  }
 ],
 "metadata": {
  "kernelspec": {
   "display_name": "TIL",
   "language": "python",
   "name": "python3"
  },
  "language_info": {
   "codemirror_mode": {
    "name": "ipython",
    "version": 3
   },
   "file_extension": ".py",
   "mimetype": "text/x-python",
   "name": "python",
   "nbconvert_exporter": "python",
   "pygments_lexer": "ipython3",
   "version": "3.13.5"
  }
 },
 "nbformat": 4,
 "nbformat_minor": 5
}
