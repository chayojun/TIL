{
 "cells": [
  {
   "cell_type": "markdown",
   "id": "5ffc9fe7",
   "metadata": {},
   "source": [
    "### **함수 직접 정의하기 (사용자 정의 함수)**\n",
    "\n",
    "아래 문제들을 해결하기 위한 함수를 직접 작성해 보세요."
   ]
  },
  {
   "cell_type": "markdown",
   "id": "a8f949ff",
   "metadata": {},
   "source": [
    "#### **난이도 (하)**"
   ]
  },
  {
   "cell_type": "markdown",
   "id": "ead3b1eb",
   "metadata": {},
   "source": [
    "**문제 1 (빈칸 채우기)**\n",
    "\"안녕하세요!\"를 출력하는 `say_hello` 함수를 완성하세요.\n",
    "\n",
    "___를 지우고 들어갈 내용을 작성하세요"
   ]
  },
  {
   "cell_type": "code",
   "execution_count": 2,
   "id": "0f3b3b2c",
   "metadata": {},
   "outputs": [
    {
     "name": "stdout",
     "output_type": "stream",
     "text": [
      "안녕하세요!\n"
     ]
    }
   ],
   "source": [
    "# 여기에 함수를 정의하세요!\n",
    "def say_hello():\n",
    "    print(\"안녕하세요!\")\n",
    "\n",
    "say_hello()"
   ]
  },
  {
   "cell_type": "code",
   "execution_count": 3,
   "id": "903bbd3c",
   "metadata": {},
   "outputs": [
    {
     "name": "stdout",
     "output_type": "stream",
     "text": [
      "안녕하세요!\n"
     ]
    }
   ],
   "source": [
    "say_hello() # 예상 출력: 안녕하세요!"
   ]
  },
  {
   "cell_type": "markdown",
   "id": "88420a77",
   "metadata": {},
   "source": [
    "**문제 2**\n",
    "이름을 인자로 받아 \"안녕하세요, [이름]님!\"을 출력하는 `greet` 함수를 만드세요."
   ]
  },
  {
   "cell_type": "code",
   "execution_count": null,
   "id": "901ca0f1",
   "metadata": {},
   "outputs": [
    {
     "name": "stdout",
     "output_type": "stream",
     "text": [
      "안녕하세요, 은서님\n"
     ]
    }
   ],
   "source": [
    "def greet(name):\n",
    "    print(f\"안녕하세요, {name}님\")\n",
    "\n",
    "# 여기에 함수를 정의하세요!\n",
    "greet(\"은서\") # 예상 출력: 안녕하세요, 은서님!\n"
   ]
  },
  {
   "cell_type": "markdown",
   "id": "cc77b545",
   "metadata": {},
   "source": [
    "**문제 3**\n",
    "두 개의 숫자를 인자로 받아 그 합을 반환하는 `add_numbers` 함수를 만드세요."
   ]
  },
  {
   "cell_type": "code",
   "execution_count": null,
   "id": "768aa7c6",
   "metadata": {},
   "outputs": [
    {
     "data": {
      "text/plain": [
       "15"
      ]
     },
     "execution_count": 8,
     "metadata": {},
     "output_type": "execute_result"
    }
   ],
   "source": [
    "def add_numbers(a, b):\n",
    "    return a + b\n",
    "    \n",
    "# 여기에 함수를 정의하세요!\n",
    "add_numbers(10, 5) # 예상 출력: 15"
   ]
  },
  {
   "cell_type": "markdown",
   "id": "db567e47",
   "metadata": {},
   "source": [
    "#### **난이도 (중)**"
   ]
  },
  {
   "cell_type": "markdown",
   "id": "b644da05",
   "metadata": {},
   "source": [
    "**문제 4 (빈칸 채우기)**\n",
    "세 개의 숫자를 인자로 받아 평균값을 반환하는 `calculate_average` 함수를 완성하세요.\n",
    "\n",
    "\n",
    "___를 지우고 들어갈 내용을 작성하세요"
   ]
  },
  {
   "cell_type": "code",
   "execution_count": 9,
   "id": "d9a9af46",
   "metadata": {},
   "outputs": [],
   "source": [
    "# 여기에 함수를 정의하세요!\n",
    "def calculate_average(a, b, c):\n",
    "    total = a + b + c\n",
    "    average = total / 3\n",
    "    return average"
   ]
  },
  {
   "cell_type": "code",
   "execution_count": 10,
   "id": "8a2e57c2",
   "metadata": {},
   "outputs": [
    {
     "data": {
      "text/plain": [
       "20.0"
      ]
     },
     "execution_count": 10,
     "metadata": {},
     "output_type": "execute_result"
    }
   ],
   "source": [
    "calculate_average(10, 20, 30) # 예상 출력: 20.0"
   ]
  },
  {
   "cell_type": "markdown",
   "id": "ff4eaf51",
   "metadata": {},
   "source": [
    "**문제 5**\n",
    "숫자를 인자로 받아 0보다 크면 \"양수\", 0보다 작으면 \"음수\", 0이면 \"0\"을 출력하는 `check_positive` 함수를 만드세요."
   ]
  },
  {
   "cell_type": "code",
   "execution_count": 11,
   "id": "63eb4426",
   "metadata": {},
   "outputs": [
    {
     "name": "stdout",
     "output_type": "stream",
     "text": [
      "양수\n",
      "음수\n",
      "0\n"
     ]
    }
   ],
   "source": [
    "def check_positive(num):\n",
    "    if num > 0:\n",
    "        print(\"양수\")\n",
    "    elif num < 0:\n",
    "        print(\"음수\")\n",
    "    else:\n",
    "        print(\"0\")\n",
    "\n",
    "# 여기에 함수를 정의하세요!\n",
    "check_positive(5) # 예상 출력: 양수\n",
    "check_positive(-3) # 예상 출력: 음수\n",
    "check_positive(0) # 예상 출력: 0"
   ]
  },
  {
   "cell_type": "markdown",
   "id": "28fc2215",
   "metadata": {},
   "source": [
    "**문제 6**\n",
    "문자열을 인자로 받아 그 문자열의 길이를 반환하는 `get_string_length` 함수를 만드세요. (힌트: `len()` 함수를 사용하면 안 됩니다.)"
   ]
  },
  {
   "cell_type": "code",
   "execution_count": null,
   "id": "ed94d3cb",
   "metadata": {},
   "outputs": [
    {
     "name": "stdout",
     "output_type": "stream",
     "text": [
      "1\n",
      "2\n",
      "3\n",
      "4\n",
      "5\n",
      "6\n"
     ]
    }
   ],
   "source": [
    "def get_string_length(text):\n",
    "    total = 0\n",
    "    for i in range():\n",
    "        total + i\n",
    "        \n",
    "\n",
    "    \n",
    "\n",
    "\n",
    "# 여기에 함수를 정의하세요!\n",
    "get_string_length(\"Python\") # 예상 출력: 6"
   ]
  },
  {
   "cell_type": "markdown",
   "id": "1eb19194",
   "metadata": {},
   "source": [
    "#### **난이도 (상)**"
   ]
  },
  {
   "cell_type": "markdown",
   "id": "78857151",
   "metadata": {},
   "source": [
    "**문제 7 (빈칸 채우기)**\n",
    "정수 리스트를 인자로 받아 리스트의 모든 요소의 합을 반환하는 `sum_list` 함수를 완성하세요.\n",
    "\n",
    "\n",
    "___를 지우고 들어갈 내용을 작성하세요"
   ]
  },
  {
   "cell_type": "code",
   "execution_count": 15,
   "id": "5f01489b",
   "metadata": {},
   "outputs": [],
   "source": [
    "# 여기에 함수를 정의하세요!\n",
    "def sum_list(numbers):\n",
    "    total = 0\n",
    "    for num in numbers:\n",
    "        total += num\n",
    "    return total"
   ]
  },
  {
   "cell_type": "code",
   "execution_count": 16,
   "id": "09e2a703",
   "metadata": {},
   "outputs": [
    {
     "data": {
      "text/plain": [
       "15"
      ]
     },
     "execution_count": 16,
     "metadata": {},
     "output_type": "execute_result"
    }
   ],
   "source": [
    "sum_list([1, 2, 3, 4, 5]) # 예상 출력: 15"
   ]
  },
  {
   "cell_type": "markdown",
   "id": "6d2cb8f4",
   "metadata": {},
   "source": [
    "**문제 8**\n",
    "정수 리스트를 인자로 받아 리스트 내의 가장 큰 값을 반환하는 `find_max` 함수를 만드세요. (힌트: `max()` 함수를 사용하지 마세요.)"
   ]
  },
  {
   "cell_type": "code",
   "execution_count": null,
   "id": "26eb1cb2",
   "metadata": {},
   "outputs": [
    {
     "ename": "TypeError",
     "evalue": "'>=' not supported between instances of 'list' and 'int'",
     "output_type": "error",
     "traceback": [
      "\u001b[31m---------------------------------------------------------------------------\u001b[39m",
      "\u001b[31mTypeError\u001b[39m                                 Traceback (most recent call last)",
      "\u001b[36mCell\u001b[39m\u001b[36m \u001b[39m\u001b[32mIn[23]\u001b[39m\u001b[32m, line 5\u001b[39m\n\u001b[32m      2\u001b[39m     num >= \u001b[32m9\u001b[39m\n\u001b[32m      4\u001b[39m \u001b[38;5;66;03m# 여기에 함수를 정의하세요!\u001b[39;00m\n\u001b[32m----> \u001b[39m\u001b[32m5\u001b[39m \u001b[43mfind_max\u001b[49m\u001b[43m(\u001b[49m\u001b[43m[\u001b[49m\u001b[32;43m2\u001b[39;49m\u001b[43m,\u001b[49m\u001b[43m \u001b[49m\u001b[32;43m5\u001b[39;49m\u001b[43m,\u001b[49m\u001b[43m \u001b[49m\u001b[32;43m1\u001b[39;49m\u001b[43m,\u001b[49m\u001b[43m \u001b[49m\u001b[32;43m9\u001b[39;49m\u001b[43m,\u001b[49m\u001b[43m \u001b[49m\u001b[32;43m3\u001b[39;49m\u001b[43m]\u001b[49m\u001b[43m)\u001b[49m \u001b[38;5;66;03m# 예상 출력: 9\u001b[39;00m\n",
      "\u001b[36mCell\u001b[39m\u001b[36m \u001b[39m\u001b[32mIn[23]\u001b[39m\u001b[32m, line 2\u001b[39m, in \u001b[36mfind_max\u001b[39m\u001b[34m(num)\u001b[39m\n\u001b[32m      1\u001b[39m \u001b[38;5;28;01mdef\u001b[39;00m\u001b[38;5;250m \u001b[39m\u001b[34mfind_max\u001b[39m(num):\n\u001b[32m----> \u001b[39m\u001b[32m2\u001b[39m     \u001b[43mnum\u001b[49m\u001b[43m \u001b[49m\u001b[43m>\u001b[49m\u001b[43m=\u001b[49m\u001b[43m \u001b[49m\u001b[32;43m9\u001b[39;49m\n",
      "\u001b[31mTypeError\u001b[39m: '>=' not supported between instances of 'list' and 'int'"
     ]
    }
   ],
   "source": [
    "def find_max(num):\n",
    "    for\n",
    "\n",
    "# 여기에 함수를 정의하세요!\n",
    "find_max([2, 5, 1, 9, 3]) # 예상 출력: 9"
   ]
  },
  {
   "cell_type": "markdown",
   "id": "e445dccd",
   "metadata": {},
   "source": [
    "**문제 9**\n",
    "정수 리스트를 인자로 받아, 짝수만 골라 새로운 리스트로 반환하는 `filter_even` 함수를 만드세요."
   ]
  },
  {
   "cell_type": "code",
   "execution_count": null,
   "id": "61045355",
   "metadata": {},
   "outputs": [],
   "source": [
    "# 여기에 함수를 정의하세요!\n",
    "filter_even([1, 2, 3, 4, 5, 6]) # 예상 출력: [2, 4, 6]"
   ]
  }
 ],
 "metadata": {
  "kernelspec": {
   "display_name": "TIL",
   "language": "python",
   "name": "python3"
  },
  "language_info": {
   "codemirror_mode": {
    "name": "ipython",
    "version": 3
   },
   "file_extension": ".py",
   "mimetype": "text/x-python",
   "name": "python",
   "nbconvert_exporter": "python",
   "pygments_lexer": "ipython3",
   "version": "3.13.5"
  }
 },
 "nbformat": 4,
 "nbformat_minor": 5
}
